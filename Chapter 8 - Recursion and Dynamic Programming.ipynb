{
 "cells": [
  {
   "cell_type": "code",
   "execution_count": 1,
   "metadata": {},
   "outputs": [],
   "source": [
    "'''\n",
    "8.1) A child is running up a staircase with n steps and can hop either 1 step, 2 streps or 3 steps at a time. \n",
    "Implement a method to count how many possible ways the child can run up the stairs\n",
    "'''\n",
    "\n",
    "def waysToClimb(n):\n",
    "    \n",
    "    steps = [0 for i in range(n+1)]\n",
    "    \n",
    "    steps[0] = 1\n",
    "    steps[1] = 1\n",
    "    steps[2] = 2\n",
    "    \n",
    "    for i in range(3,n+1):\n",
    "        steps[i] = steps[i-1] + steps[i-2] + steps[i-3]\n",
    "        \n",
    "    return steps[n]"
   ]
  },
  {
   "cell_type": "code",
   "execution_count": 2,
   "metadata": {},
   "outputs": [
    {
     "data": {
      "text/plain": [
       "7"
      ]
     },
     "execution_count": 2,
     "metadata": {},
     "output_type": "execute_result"
    }
   ],
   "source": [
    "waysToClimb(4)"
   ]
  },
  {
   "cell_type": "code",
   "execution_count": 15,
   "metadata": {},
   "outputs": [],
   "source": [
    "'''\n",
    "8.2) Imagine a robot sitting on the upper left corner of a grid ith r rows and c columns. The robot can only move in \n",
    "two directions, right and down, but certain cells are off limits such that the robot cannot step on them. Design\n",
    "an algorithm to find a path for the robot from the top left to the bottom right.\n",
    "'''\n",
    "\n",
    "def robotInGrid(mat):\n",
    "    if len(mat) == 0:\n",
    "        return\n",
    "    \n",
    "    path = []\n",
    "    robotInGridUtil(mat,0,0,path)\n",
    "    \n",
    "    return path\n",
    "\n",
    "def robotInGridUtil(mat,r,c,path):\n",
    "    \n",
    "    if r < 0 or c < 0 or r >= len(mat) or c >= len(mat[0]) or mat[r][c] == -1:\n",
    "        return False\n",
    "    \n",
    "    if r == len(mat) - 1 and c == len(mat[0]) - 1:\n",
    "        return True\n",
    "    \n",
    "    if robotInGridUtil(mat,r+1,c,path) or robotInGridUtil(mat,r,c+1,path):\n",
    "        path.insert(0,([r,c]))\n",
    "        return True\n",
    "    \n",
    "    return False\n",
    "    "
   ]
  },
  {
   "cell_type": "code",
   "execution_count": 17,
   "metadata": {},
   "outputs": [
    {
     "data": {
      "text/plain": [
       "[[0, 0], [1, 0], [2, 0], [3, 0], [3, 1], [3, 2]]"
      ]
     },
     "execution_count": 17,
     "metadata": {},
     "output_type": "execute_result"
    }
   ],
   "source": [
    "mat = [[0,0,0,0],\n",
    "[0,-1,0,0],\n",
    "[0,0,-1,-1],\n",
    "[0,0,0,0]]\n",
    "\n",
    "robotInGrid(mat)"
   ]
  },
  {
   "cell_type": "code",
   "execution_count": 35,
   "metadata": {},
   "outputs": [],
   "source": [
    "'''\n",
    "8.3) A magic index in an array A[0...n-1] is defined to be an index such that A[i] = i. Given a sorted array of\n",
    "distinct integers, write a method to find the magic index, if one exists in array A\n",
    "'''\n",
    "\n",
    "def magic_index(arr):\n",
    "    if len(arr) == 0:\n",
    "        return None\n",
    "    \n",
    "    return _magic_index(arr, 0, len(arr) - 1)\n",
    "\n",
    "def _magic_index(arr, l, r):\n",
    "    \n",
    "    while l <= r:\n",
    "        m = (l + r) // 2\n",
    "    \n",
    "        if arr[m] == m:\n",
    "            return m\n",
    "    \n",
    "        if arr[m] < m:\n",
    "            l = m+1\n",
    "        else:\n",
    "            r = m-1\n",
    "    return -1"
   ]
  },
  {
   "cell_type": "code",
   "execution_count": 36,
   "metadata": {},
   "outputs": [
    {
     "data": {
      "text/plain": [
       "5"
      ]
     },
     "execution_count": 36,
     "metadata": {},
     "output_type": "execute_result"
    }
   ],
   "source": [
    "magic_index([-1, 0, 1, 2, 3, 5])"
   ]
  },
  {
   "cell_type": "code",
   "execution_count": 23,
   "metadata": {},
   "outputs": [],
   "source": [
    "'''\n",
    "8.4) Write a method to return all subsets of a set\n",
    "'''\n",
    "\n",
    "def powerSet(arr):\n",
    "    \n",
    "    if len(arr) == 0:\n",
    "        return []\n",
    "    \n",
    "    path = []\n",
    "    powerSetUtil(arr,0,[],path)\n",
    "    return path\n",
    "\n",
    "def powerSetUtil(arr,pos,curr_set,path):\n",
    "    path.append(curr_set)\n",
    "    \n",
    "    for i in range(pos, len(arr)):\n",
    "        powerSetUtil(arr,i+1,curr_set + [arr[i]],path)\n",
    "        "
   ]
  },
  {
   "cell_type": "code",
   "execution_count": 24,
   "metadata": {},
   "outputs": [
    {
     "data": {
      "text/plain": [
       "[[], [1], [1, 2], [1, 2, 3], [1, 3], [2], [2, 3], [3]]"
      ]
     },
     "execution_count": 24,
     "metadata": {},
     "output_type": "execute_result"
    }
   ],
   "source": [
    "powerSet([1,2,3])"
   ]
  },
  {
   "cell_type": "code",
   "execution_count": 3,
   "metadata": {},
   "outputs": [],
   "source": [
    "'''\n",
    "8.5) Write a recursive function to multiply two positive integers without using * operator. You can use addition,\n",
    "subtraction, and bit shifting, but you should minimize the number of operations\n",
    "'''\n",
    "\n",
    "# Brute Force\n",
    "\n",
    "def recursiveMultiply(x,y):\n",
    "    if x is None or y is None:\n",
    "        return -1\n",
    "    \n",
    "    if(x==0 or y==0):\n",
    "        return 0\n",
    "    \n",
    "    if(x==1):\n",
    "        return y\n",
    "    \n",
    "    if(y==1):\n",
    "        return x\n",
    "    \n",
    "    return x + recursiveMultiply(x,y-1)\n",
    "\n",
    "# Using minimum operations\n",
    "\n",
    "def recursiveMultiply2(x,y):\n",
    "    \n",
    "    small = x\n",
    "    large = y\n",
    "    \n",
    "    if large < small:\n",
    "        small,large = large,small\n",
    "        \n",
    "    return recursiveMultiplyUtil(large,small)\n",
    "\n",
    "\n",
    "def recursiveMultiplyUtil(large,small):\n",
    "    \n",
    "    if small == 0:\n",
    "        return 0\n",
    "    \n",
    "    if small == 1:\n",
    "        return large\n",
    "    \n",
    "    s = small >> 1\n",
    "    \n",
    "    first_half = recursiveMultiplyUtil(large,s)\n",
    "\n",
    "    if small%2 != 0:\n",
    "        return first_half + first_half + large\n",
    "    \n",
    "    else:\n",
    "        return first_half + first_half\n",
    "    "
   ]
  },
  {
   "cell_type": "code",
   "execution_count": 8,
   "metadata": {},
   "outputs": [
    {
     "data": {
      "text/plain": [
       "20"
      ]
     },
     "execution_count": 8,
     "metadata": {},
     "output_type": "execute_result"
    }
   ],
   "source": [
    "recursiveMultiply(5,4)"
   ]
  },
  {
   "cell_type": "code",
   "execution_count": 9,
   "metadata": {},
   "outputs": [
    {
     "data": {
      "text/plain": [
       "56"
      ]
     },
     "execution_count": 9,
     "metadata": {},
     "output_type": "execute_result"
    }
   ],
   "source": [
    "recursiveMultiply2(7,8)"
   ]
  },
  {
   "cell_type": "code",
   "execution_count": 10,
   "metadata": {},
   "outputs": [],
   "source": [
    "'''\n",
    "8.6) In the classic problem of towers of hanoi, you have 3 towers and N disks of different sizes which \n",
    "can slide onto any tower. The puzzle starts with disks dorted in ascending order of size from top to bottom.\n",
    "You have the following constarints, Only one disk can be moved at a time. A disk is slid off the top of one tower\n",
    "to another tower. A disk cannot be placed on top of a smaller disk.\n",
    "'''\n",
    "\n",
    "def towersOfHanoi(n):\n",
    "    start = []\n",
    "    end = []\n",
    "    buffer = []\n",
    "    \n",
    "    for i in range(n):\n",
    "        start.append(i)\n",
    "        \n",
    "    towersOfHanoiUtil(n,start,end,buffer)\n",
    "    \n",
    "    return end\n",
    "\n",
    "def towersOfHanoiUtil(n,start,end,buffer):\n",
    "    if n <= 0:\n",
    "        return\n",
    "    \n",
    "    towersOfHanoiUtil(n-1,start,buffer,end)\n",
    "    \n",
    "    end.append(start.pop())\n",
    "    \n",
    "    towersOfHanoiUtil(n-1,buffer,end,start)"
   ]
  },
  {
   "cell_type": "code",
   "execution_count": 11,
   "metadata": {},
   "outputs": [
    {
     "data": {
      "text/plain": [
       "[0, 1, 2]"
      ]
     },
     "execution_count": 11,
     "metadata": {},
     "output_type": "execute_result"
    }
   ],
   "source": [
    "towersOfHanoi(3)"
   ]
  },
  {
   "cell_type": "code",
   "execution_count": 63,
   "metadata": {},
   "outputs": [],
   "source": [
    "'''\n",
    "8.7) Write a method to compute all permutations of a string of unique characters\n",
    "'''\n",
    "\n",
    "def perms_without_dups(s):\n",
    "    all_results = []\n",
    "    perms_without_dups_util(\"\", all_results, s)\n",
    "    return all_results\n",
    "\n",
    "def perms_without_dups_util(cur_set, all_results, s):\n",
    "    if not len(s):\n",
    "        all_results.append(cur_set)\n",
    "        return\n",
    "    \n",
    "    for i in range(len(s)):\n",
    "        perms_without_dups_util(cur_set + s[i], all_results, s[:i] + s[i+1:])\n",
    "            "
   ]
  },
  {
   "cell_type": "code",
   "execution_count": 64,
   "metadata": {},
   "outputs": [
    {
     "data": {
      "text/plain": [
       "['abc', 'acb', 'bac', 'bca', 'cab', 'cba']"
      ]
     },
     "execution_count": 64,
     "metadata": {},
     "output_type": "execute_result"
    }
   ],
   "source": [
    "perms_without_dups(\"abc\")"
   ]
  },
  {
   "cell_type": "code",
   "execution_count": 69,
   "metadata": {},
   "outputs": [],
   "source": [
    "'''\n",
    "8.8) Write a method to compute all permutations of a string whose characters are not necessarily unique. The list of\n",
    "permutations should not have duplicates.\n",
    "'''\n",
    "\n",
    "def perm_with_dups(string):\n",
    "    s = list(string)\n",
    "    n = len(s)\n",
    "    \n",
    "    perm_with_dups_util(s,0,n)\n",
    "    \n",
    "def perm_with_dups_util(s,start,end):\n",
    "    \n",
    "    if start >= end:\n",
    "        print(\"\".join(s))\n",
    "        return\n",
    "    \n",
    "    for i in range(start,end):\n",
    "        if checkSwap(s,start,i):\n",
    "            s[start], s[i] = s[i], s[start]  \n",
    "            perm_with_dups_util(s, start + 1, end)  \n",
    "            s[start], s[i] = s[i], s[start]\n",
    "        \n",
    "        \n",
    "def checkSwap(s,start,current):\n",
    "    for i in range(start,current):\n",
    "        if s[start] == s[current]:\n",
    "            return 0\n",
    "    return 1"
   ]
  },
  {
   "cell_type": "code",
   "execution_count": 70,
   "metadata": {},
   "outputs": [
    {
     "name": "stdout",
     "output_type": "stream",
     "text": [
      "aabc\n",
      "aacb\n",
      "abac\n",
      "abca\n",
      "acba\n",
      "acab\n",
      "baac\n",
      "baca\n",
      "bcaa\n",
      "caba\n",
      "caab\n",
      "cbaa\n"
     ]
    }
   ],
   "source": [
    "perm_with_dups(\"aabc\")"
   ]
  },
  {
   "cell_type": "code",
   "execution_count": 26,
   "metadata": {},
   "outputs": [],
   "source": [
    "'''\n",
    "8.9)Implement an algorithm to print all valid combinations of n pairs of parenthesis. \n",
    "Example: Input - 3 , Output = ((())),(()()), (())(),()(()),()()()\n",
    "'''\n",
    "\n",
    "def validParen(n):\n",
    "    if n <= 0:\n",
    "        return None\n",
    "    \n",
    "    path = []\n",
    "    \n",
    "    validParenUtil(n,0,0,\"\",path)\n",
    "    return path\n",
    "\n",
    "def validParenUtil(n,opened,closed,string,path):\n",
    "    \n",
    "    if(opened == n and closed == n):\n",
    "        path.append(string)\n",
    "        return\n",
    "    \n",
    "    if opened < n:\n",
    "        validParenUtil(n,opened+1,closed,string+\"(\",path)\n",
    "        \n",
    "    if opened > closed:\n",
    "        validParenUtil(n,opened,closed+1,string+\")\",path)"
   ]
  },
  {
   "cell_type": "code",
   "execution_count": 27,
   "metadata": {},
   "outputs": [
    {
     "data": {
      "text/plain": [
       "['((()))', '(()())', '(())()', '()(())', '()()()']"
      ]
     },
     "execution_count": 27,
     "metadata": {},
     "output_type": "execute_result"
    }
   ],
   "source": [
    "validParen(3)"
   ]
  },
  {
   "cell_type": "code",
   "execution_count": 32,
   "metadata": {},
   "outputs": [],
   "source": [
    "'''\n",
    "8.10) Implement the paint fill function that one might see on many image editing programs. That is given a screen\n",
    "represented by 2-D array of colors, a point and a new color, fill the surrounding area until the color changes from \n",
    "the original color.\n",
    "'''\n",
    "\n",
    "def paintFill(mat,r,c,newC):\n",
    "    \n",
    "    if len(mat) == 0:\n",
    "        return\n",
    "    \n",
    "    currC = mat[r][c]\n",
    "    \n",
    "    if currC == newC:\n",
    "        return mat\n",
    "    \n",
    "    paintFillUtil(mat,r,c,currC,newC)\n",
    "    return mat\n",
    "\n",
    "def paintFillUtil(mat,r,c,currC,newC):\n",
    "    \n",
    "    if r >= len(mat) or c >= len(mat[0]) or mat[r][c] != currC or mat[r][c] == newC:\n",
    "        return\n",
    "    \n",
    "    mat[r][c] = newC\n",
    "    \n",
    "    paintFillUtil(mat,r+1,c,currC,newC)\n",
    "    paintFillUtil(mat,r-1,c,currC,newC)\n",
    "    paintFillUtil(mat,r,c+1,currC,newC)\n",
    "    paintFillUtil(mat,r,c-1,currC,newC)\n",
    "    "
   ]
  },
  {
   "cell_type": "code",
   "execution_count": 33,
   "metadata": {},
   "outputs": [
    {
     "data": {
      "text/plain": [
       "[[0, 0, 2, 0], [0, 2, 2, 2], [1, 0, 2, 2]]"
      ]
     },
     "execution_count": 33,
     "metadata": {},
     "output_type": "execute_result"
    }
   ],
   "source": [
    "mat = [[0,0,1,0], [0,1,1,1], [1,0,1,1]]\n",
    "paintFill(mat, 1, 2, 2)"
   ]
  },
  {
   "cell_type": "code",
   "execution_count": 42,
   "metadata": {},
   "outputs": [],
   "source": [
    "'''\n",
    "8.11) Given an infine number of quarters, dimes, nickels and pennies, write code to calculate number of ways to \n",
    "represent n cents.\n",
    "'''\n",
    "def noOfWays(n):\n",
    "    \n",
    "    if n < 0:\n",
    "        return 0\n",
    "    coins = [1,5,10,25]\n",
    "    \n",
    "    ways = [0] * (n+1)\n",
    "    \n",
    "    ways[0] = 1\n",
    "    \n",
    "    for i in range(len(coins)):\n",
    "        for j in range(len(ways)):\n",
    "            \n",
    "            if coins[i] <= j:\n",
    "                ways[j] += ways[int(j-coins[i])]\n",
    "    \n",
    "    return ways[n]\n",
    "            "
   ]
  },
  {
   "cell_type": "code",
   "execution_count": 43,
   "metadata": {},
   "outputs": [
    {
     "data": {
      "text/plain": [
       "2"
      ]
     },
     "execution_count": 43,
     "metadata": {},
     "output_type": "execute_result"
    }
   ],
   "source": [
    "noOfWays(6)"
   ]
  },
  {
   "cell_type": "code",
   "execution_count": 77,
   "metadata": {},
   "outputs": [],
   "source": [
    "'''\n",
    "8.12) Write an algorithm to print all ways of arranging eight queens on a 8x8 chess borad that none of them share\n",
    "the same row, column or diagonal(all diagonal)\n",
    "'''\n",
    "\n",
    "def placeQueen(board):\n",
    "    n = 8\n",
    "    placeQueenUtil(board,0,n)\n",
    "    return board\n",
    "\n",
    "def placeQueenUtil(board,col,n):\n",
    "    if col >= n:\n",
    "        return True\n",
    "    \n",
    "    for i in range(n):\n",
    "        if isSafe(board,i,col,n):\n",
    "            board[i][col] = 1\n",
    "\n",
    "            if (placeQueenUtil(board,col+1,n) == True):\n",
    "                return True\n",
    "\n",
    "            board[i][col] = 0\n",
    "\n",
    "    return False\n",
    "    \n",
    "def isSafe(board,row,col,n):\n",
    "\n",
    "    for i in range(col):\n",
    "        if board[row][i] == 1:\n",
    "            return False\n",
    "\n",
    "    for i,j in zip(range(row,-1,-1),range(col,-1,-1)):\n",
    "        if board[i][j] == 1:\n",
    "            return False\n",
    "\n",
    "    for i,j in zip(range(row,n,1), range(col,-1,-1)):\n",
    "        if board[i][j] == 1:\n",
    "            return False\n",
    "\n",
    "    return True"
   ]
  },
  {
   "cell_type": "code",
   "execution_count": 80,
   "metadata": {},
   "outputs": [
    {
     "data": {
      "text/plain": [
       "[[1, 0, 0, 0, 0, 0, 0, 0],\n",
       " [0, 0, 0, 0, 0, 0, 1, 0],\n",
       " [0, 0, 0, 0, 1, 0, 0, 0],\n",
       " [0, 0, 0, 0, 0, 0, 0, 1],\n",
       " [0, 1, 0, 0, 0, 0, 0, 0],\n",
       " [0, 0, 0, 1, 0, 0, 0, 0],\n",
       " [0, 0, 0, 0, 0, 1, 0, 0],\n",
       " [0, 0, 1, 0, 0, 0, 0, 0]]"
      ]
     },
     "execution_count": 80,
     "metadata": {},
     "output_type": "execute_result"
    }
   ],
   "source": [
    "board = [[0, 0, 0, 0, 0, 0, 0, 0], \n",
    "         [0, 0, 0, 0, 0, 0, 0, 0],\n",
    "         [0, 0, 0, 0, 0, 0, 0, 0],\n",
    "         [0, 0, 0, 0, 0, 0, 0, 0],\n",
    "         [0, 0, 0, 0, 0, 0, 0, 0],\n",
    "         [0, 0, 0, 0, 0, 0, 0, 0],\n",
    "         [0, 0, 0, 0, 0, 0, 0, 0],\n",
    "         [0, 0, 0, 0, 0, 0, 0, 0]]\n",
    "placeQueen(board)"
   ]
  },
  {
   "cell_type": "code",
   "execution_count": 54,
   "metadata": {},
   "outputs": [],
   "source": [
    "'''\n",
    "8.13) You have a stack of n boxes, with width w1, heights h1 and depth d1. The boxes cannot be rotated and \n",
    "can only be stacked on top of one another if each box in the stack is strictly larger than the box above it in \n",
    "idth, height and depth. Implement a method to compute the height of the tallest possible stack. Height of the stack is \n",
    "the sum of heights of each box.\n",
    "'''\n",
    "\n",
    "class Boxes:\n",
    "    \n",
    "    def __init__(self,width,depth,height):\n",
    "        \n",
    "        self.width = width\n",
    "        self.depth = depth\n",
    "        self.height = height\n",
    "        \n",
    "    def smallerBox(self,other_box):\n",
    "        \n",
    "        if self.width < other_box.width and self.height < other_box.height and self.depth < other_box.depth:\n",
    "            return True\n",
    "        \n",
    "        return False\n",
    "    \n",
    "def stackHeight(boxes):\n",
    "\n",
    "    boxes = sorted(boxes, reverse = True, key = lambda box:box.height)\n",
    "    tallest_stack = 0\n",
    "\n",
    "    for i in range(len(boxes)):\n",
    "        bottom_box = boxes[i]\n",
    "        total_height = bottom_box.height\n",
    "        curr_box = bottom_box\n",
    "\n",
    "        for j in range(i+1,len(boxes)):\n",
    "            if boxes[j].smallerBox(curr_box):\n",
    "                total_height += boxes[j].height\n",
    "                curr_box = boxes[j]\n",
    "                \n",
    "        if total_height > tallest_stack:\n",
    "            tallest_stack = total_height\n",
    "            \n",
    "    return tallest_stack"
   ]
  },
  {
   "cell_type": "code",
   "execution_count": 55,
   "metadata": {},
   "outputs": [
    {
     "name": "stdout",
     "output_type": "stream",
     "text": [
      "The maximum possible height of stack is 42\n"
     ]
    }
   ],
   "source": [
    "arr = [Boxes(4, 6, 7), Boxes(1, 2, 3), \n",
    "           Boxes(4, 5, 6), Boxes(10, 12, 32)] \n",
    "print(\"The maximum possible height of stack is\", stackHeight(arr)) "
   ]
  }
 ],
 "metadata": {
  "kernelspec": {
   "display_name": "Python 3",
   "language": "python",
   "name": "python3"
  },
  "language_info": {
   "codemirror_mode": {
    "name": "ipython",
    "version": 3
   },
   "file_extension": ".py",
   "mimetype": "text/x-python",
   "name": "python",
   "nbconvert_exporter": "python",
   "pygments_lexer": "ipython3",
   "version": "3.7.1"
  }
 },
 "nbformat": 4,
 "nbformat_minor": 2
}
