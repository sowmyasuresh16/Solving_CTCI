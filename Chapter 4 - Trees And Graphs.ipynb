{
 "cells": [
  {
   "cell_type": "code",
   "execution_count": null,
   "metadata": {},
   "outputs": [],
   "source": [
    "'''4.1)Given a directed graph, design an algorithm to find out whether there is a route between two nodes'''\n",
    "\n",
    "from collections import defaultdict\n",
    "\n",
    "class Graph:\n",
    "    \n",
    "    def __init__(self,vertices):\n",
    "        \n",
    "        self.n = vertices\n",
    "        self.graph = defaultdict(list)\n",
    "        \n",
    "    def _addEdges(self,u,v):\n",
    "        self.graph[u].append(v)\n",
    "        \n",
    "    def _route(self,u,v):\n",
    "\n",
    "        visited = [False for i in range(self.n)]\n",
    "        queue = []\n",
    "\n",
    "        queue.append(u)\n",
    "\n",
    "        while queue:\n",
    "\n",
    "            x = queue.pop(0)\n",
    "            if x == v:\n",
    "                return True\n",
    "            \n",
    "            for i in self.graph[x]:\n",
    "                if visited[i] is not True:\n",
    "                    visited[i] = True\n",
    "                    queue.append(i)\n",
    "        return False\n",
    "\n"
   ]
  },
  {
   "cell_type": "code",
   "execution_count": null,
   "metadata": {},
   "outputs": [],
   "source": [
    "g = Graph(4) \n",
    "g._addEdges(0, 1) \n",
    "g._addEdges(0, 2) \n",
    "g._addEdges(1, 2) \n",
    "g._addEdges(2, 0) \n",
    "g._addEdges(2, 3) \n",
    "g._addEdges(3, 3) \n",
    "  \n",
    "u =3; v = 1\n",
    "g._route(u,v)"
   ]
  },
  {
   "cell_type": "code",
   "execution_count": 2,
   "metadata": {},
   "outputs": [],
   "source": [
    "'''4.2) Given a sorted array with unique integer elements, write an algorithm to create a binary search tree with\n",
    "minimal height'''\n",
    "\n",
    "class Tree:\n",
    "    \n",
    "    def __init__(self,node):\n",
    "        \n",
    "        self.node = node\n",
    "        self.left = self.right = None\n",
    "        \n",
    "def binaryTree(arr):\n",
    "    if len(arr) == 0:\n",
    "        return None\n",
    "    \n",
    "    start = 0\n",
    "    end = len(arr)\n",
    "    \n",
    "    mid = (start + end) // 2\n",
    "    \n",
    "    root = Tree(arr[mid])\n",
    "    root.left = binaryTree(arr[:mid])\n",
    "    root.right = binaryTree(arr[mid+1:])\n",
    "    \n",
    "    return root"
   ]
  },
  {
   "cell_type": "code",
   "execution_count": 4,
   "metadata": {},
   "outputs": [
    {
     "name": "stdout",
     "output_type": "stream",
     "text": [
      "8\n"
     ]
    }
   ],
   "source": [
    "arr = [1,2,3,4,5,6,7,8]\n",
    "root = binaryTree(arr)\n",
    "print(root.right.right.node)"
   ]
  },
  {
   "cell_type": "code",
   "execution_count": 74,
   "metadata": {},
   "outputs": [],
   "source": [
    "'''4.3) Given a binary tree, design an algorithm which creates a linked list of all the nodes at each depth.'''\n",
    "\n",
    "class Tree:\n",
    "    \n",
    "    def __init__(self,val):\n",
    "        self.val = val\n",
    "        self.left = self.right = None\n",
    "        self.nextRight = None\n",
    "\n",
    "def linkedList(root):\n",
    "    if root == None:\n",
    "        return []\n",
    "\n",
    "    queue = []\n",
    "    queue.append(root)\n",
    "\n",
    "    output = []\n",
    "    while queue:\n",
    "        s = len(queue)\n",
    "        _list = []\n",
    "        while s > 0:\n",
    "            s -=1 \n",
    "            n = queue.pop(0)\n",
    "            _list.append(n.val)\n",
    "            if n.left:\n",
    "                queue.append(n.left)\n",
    "            if n.right:\n",
    "                queue.append(n.right)\n",
    "        output.append(_list)\n",
    "    return output\n",
    "    "
   ]
  },
  {
   "cell_type": "code",
   "execution_count": 75,
   "metadata": {},
   "outputs": [
    {
     "data": {
      "text/plain": [
       "[[3], [9, 20], [18, 15, 7]]"
      ]
     },
     "execution_count": 75,
     "metadata": {},
     "output_type": "execute_result"
    }
   ],
   "source": [
    "root = Tree(3)\n",
    "left = Tree(9)\n",
    "right = Tree(20)\n",
    "root.left = left\n",
    "root.right = right\n",
    "right.left = Tree(15)\n",
    "right.right = Tree(7)\n",
    "left.left = Tree(18)\n",
    "linkedList(root)"
   ]
  },
  {
   "cell_type": "code",
   "execution_count": 22,
   "metadata": {},
   "outputs": [],
   "source": [
    "'''4.4) Implement a function to check if a binary tree is balanced. For the purpose of this question, \n",
    "a balanced tree is defined to be a tree such that the heights of two subtrees of any node never differ by \n",
    "more than one'''\n",
    "\n",
    "class Tree:\n",
    "    \n",
    "    def __init__(self,val):\n",
    "        \n",
    "        self.val = val\n",
    "        self.left = self.right = None\n",
    "\n",
    "def isBalancedTree(root):\n",
    "    \n",
    "    if root is None:\n",
    "        return\n",
    "    \n",
    "    return treeHeight(root) != -1\n",
    "\n",
    "def treeHeight(root):\n",
    "    \n",
    "    if not root:\n",
    "        return True\n",
    "    \n",
    "    left = treeHeight(root.left)\n",
    "    if left == -1:\n",
    "        return -1\n",
    "    \n",
    "    right = treeHeight(root.right)\n",
    "    if right == -1:\n",
    "        return -1\n",
    "    \n",
    "    if(abs(left-right) <= 1):\n",
    "        print(left,right)\n",
    "        return max(left,right) + 1\n",
    "    else:\n",
    "        return -1\n",
    "    \n",
    "    "
   ]
  },
  {
   "cell_type": "code",
   "execution_count": 23,
   "metadata": {},
   "outputs": [
    {
     "name": "stdout",
     "output_type": "stream",
     "text": [
      "True True\n",
      "2 True\n",
      "True True\n",
      "3 2\n",
      "True True\n",
      "2 True\n",
      "4 3\n",
      "Tree is balanced\n"
     ]
    }
   ],
   "source": [
    "root = Tree(1) \n",
    "root.left = Tree(2) \n",
    "root.right = Tree(3) \n",
    "root.left.left = Tree(4) \n",
    "root.left.right = Tree(5) \n",
    "root.right.left = Tree(6) \n",
    "root.left.left.left = Tree(7) \n",
    "  \n",
    "if isBalancedTree(root): \n",
    "    print('Tree is balanced') \n",
    "else: \n",
    "    print('Tree is not balanced') \n",
    "  "
   ]
  },
  {
   "cell_type": "code",
   "execution_count": 24,
   "metadata": {},
   "outputs": [],
   "source": [
    "'''4.5) Implement a function to check if a binary tree is a binary search tree'''\n",
    "\n",
    "import sys\n",
    "\n",
    "class Tree:\n",
    "    \n",
    "    def __init__(self,val):\n",
    "        self.val = val\n",
    "        self.left=self.right = None\n",
    "        \n",
    "def validateBST(root, minimum = -sys.maxsize, maximum = sys.maxsize):\n",
    "    \n",
    "    if not root:\n",
    "        return True\n",
    "    \n",
    "    if(root.val < minimum or root.val > maximum):\n",
    "        return False\n",
    "    \n",
    "    return validateBST(root.left,minimum,root.val) and validateBST(root.right,root.val,maximum)\n",
    "    \n",
    "    "
   ]
  },
  {
   "cell_type": "code",
   "execution_count": 25,
   "metadata": {},
   "outputs": [
    {
     "name": "stdout",
     "output_type": "stream",
     "text": [
      "Valid BST\n"
     ]
    }
   ],
   "source": [
    "root = Tree(4) \n",
    "root.left = Tree(2) \n",
    "root.right = Tree(5) \n",
    "root.left.left = Tree(1) \n",
    "root.left.right = Tree(3)  \n",
    "\n",
    "if(validateBST(root)):\n",
    "    print(\"Valid BST\")\n",
    "else:\n",
    "    print(\"Not a BST\")"
   ]
  },
  {
   "cell_type": "code",
   "execution_count": 24,
   "metadata": {},
   "outputs": [],
   "source": [
    "'''4.6) Write an algorithm to find the inorder successor of a given node in a binary search tree. You may assume that\n",
    "each node has a link to its parent.'''\n",
    "\n",
    "class TreeNode:\n",
    "    \n",
    "    def __init__(self,val):\n",
    "        \n",
    "        self.val = val\n",
    "        self.left = self.right = None\n",
    "        \n",
    "def insertNode(root,data):\n",
    "    \n",
    "    if root is None:\n",
    "        return TreeNode(data)\n",
    "        \n",
    "    else:\n",
    "        \n",
    "        if(data <= root.val):\n",
    "            temp = insertNode(root.left, data) \n",
    "            root.left = temp  \n",
    "            temp.parent = root\n",
    "        else:\n",
    "            temp = insertNode(root.right, data)\n",
    "            root.right = temp\n",
    "            temp.parent = root\n",
    "            \n",
    "        return root\n",
    "    \n",
    "def minValue(node):\n",
    "    \n",
    "    current = node\n",
    "    \n",
    "    while(current is not None):\n",
    "        \n",
    "        if(current.left is None):\n",
    "            break\n",
    "        current = current.left\n",
    "        \n",
    "    return current\n",
    "\n",
    "def inorderSuccessor(root,n):\n",
    "    if n.right is not None:\n",
    "        return minValue(n.right)\n",
    "        \n",
    "    p = n.parent\n",
    "    \n",
    "    while(p is not None):\n",
    "        \n",
    "        if n != p.right:\n",
    "            break\n",
    "        \n",
    "        n = p\n",
    "        p = p.parent\n",
    "    return p\n"
   ]
  },
  {
   "cell_type": "code",
   "execution_count": 25,
   "metadata": {},
   "outputs": [
    {
     "name": "stdout",
     "output_type": "stream",
     "text": [
      "\n",
      "Inorder Successor is 20\n"
     ]
    }
   ],
   "source": [
    "root = None\n",
    "root = insertNode(root, 20) \n",
    "root = insertNode(root, 8); \n",
    "root = insertNode(root, 22); \n",
    "root = insertNode(root, 4); \n",
    "root = insertNode(root, 12); \n",
    "root = insertNode(root, 10);   \n",
    "root = insertNode(root, 14);     \n",
    "temp = root.left.right.right \n",
    "\n",
    "succ = inorderSuccessor(root, temp) \n",
    "if succ is not None: \n",
    "    print (\"\\nInorder Successor is\", \n",
    "            (succ.val))\n",
    "else: \n",
    "    print (\"\\nInorder Successor doesn't exist\")"
   ]
  },
  {
   "cell_type": "code",
   "execution_count": 21,
   "metadata": {},
   "outputs": [],
   "source": [
    "'''4.7) You are given a list of projects and a list of dependencies(which is a list of pairs of projects, \n",
    "where the second project is dependent on the first one). All project dependencies must be built before the project.\n",
    "Find the build order that will allow the project to be built. If there is  o valid build order, return an error.\n",
    "\n",
    "Projects: a,b,c,d,e,f\n",
    "Dependencies: (a,d), (f,b), (b,d), (f,a), (d,c)'''\n",
    "\n",
    "from collections import defaultdict\n",
    "\n",
    "class Graph:\n",
    "    \n",
    "    def __init__(self,vertices):\n",
    "        self.vertices = vertices\n",
    "        self.graph = defaultdict(list)\n",
    "    \n",
    "    def _addEdges(self,u,v):\n",
    "        self.graph[u].append(v)\n",
    "        \n",
    "    def _topologicalSort(self):\n",
    "        \n",
    "        visited = defaultdict(lambda: False)\n",
    "        stack = []\n",
    "        \n",
    "        for i in range(len(self.vertices)):\n",
    "            if(not visited[self.vertices[i]]):\n",
    "                self._topologicalSortUtil(self.vertices[i],stack,visited)\n",
    "                \n",
    "        return stack\n",
    "    \n",
    "    def _topologicalSortUtil(self,u,stack,visited):\n",
    "        \n",
    "        visited[u] = True\n",
    "        \n",
    "        for i in self.graph[u]:\n",
    "            if not visited[i]:\n",
    "                self._topologicalSortUtil(i,stack,visited)\n",
    "                \n",
    "        stack.insert(0, u)"
   ]
  },
  {
   "cell_type": "code",
   "execution_count": 22,
   "metadata": {},
   "outputs": [
    {
     "data": {
      "text/plain": [
       "['f', 'e', 'b', 'a', 'd', 'c']"
      ]
     },
     "execution_count": 22,
     "metadata": {},
     "output_type": "execute_result"
    }
   ],
   "source": [
    "g = Graph(['a','b','c','d','e','f']) \n",
    "g._addEdges('a', 'd')\n",
    "g._addEdges('f', 'b') \n",
    "g._addEdges('b', 'd') \n",
    "g._addEdges('d', 'c') \n",
    "g._addEdges('f', 'a') \n",
    "\n",
    "g._topologicalSort()"
   ]
  },
  {
   "cell_type": "code",
   "execution_count": 12,
   "metadata": {},
   "outputs": [],
   "source": [
    "'''4.8) Design an algorithm and write code to find the first common ancestor of two nodes in a binary tree.'''\n",
    "\n",
    "class Tree:\n",
    "    \n",
    "    def __init__(self,val):\n",
    "        self.val = val\n",
    "        self.left = self.right = None\n",
    "        \n",
    "def firstCommonAncestor(root,node1,node2):\n",
    "    \n",
    "    if not root:\n",
    "        return None\n",
    "    \n",
    "    if(node1 == root.val or node2 == root.val):\n",
    "        return root\n",
    "    \n",
    "    left = firstCommonAncestor(root.left,node1,node2)\n",
    "    right = firstCommonAncestor(root.right,node1,node2)\n",
    "    \n",
    "    if(left and right):\n",
    "        return root\n",
    "    \n",
    "    return left if left else right\n",
    "    "
   ]
  },
  {
   "cell_type": "code",
   "execution_count": 55,
   "metadata": {},
   "outputs": [
    {
     "name": "stdout",
     "output_type": "stream",
     "text": [
      "First Common Ancestor of 9, 14 is 14\n"
     ]
    }
   ],
   "source": [
    "root = Tree(20) \n",
    "root.left = Tree(8) \n",
    "root.right = Tree(22) \n",
    "root.left.left = Tree(4) \n",
    "root.left.right = Tree(12) \n",
    "root.left.right.left = Tree(10) \n",
    "root.left.right.right = Tree(14) \n",
    "  \n",
    "n1 = 9 ; n2 = 14\n",
    "t = firstCommonAncestor(root, n1, n2) \n",
    "print (\"First Common Ancestor of {0}, {1} is {2}\".format(n1, n2, t.val))"
   ]
  },
  {
   "cell_type": "code",
   "execution_count": 53,
   "metadata": {},
   "outputs": [],
   "source": [
    "'''4.9) A binary search tree was created by traversing through an array from left to right and inserting \n",
    "each element. Given a binary search tree with distinct elements, print all possible arrays that could have led\n",
    "to this tree'''\n",
    "\n",
    "class Tree:\n",
    "    \n",
    "    def __init__(self,val):\n",
    "        \n",
    "        self.val = val\n",
    "        self.left = self.right = None\n",
    "        \n",
    "def bstSequence(root):\n",
    "    if not root:\n",
    "        return\n",
    "    \n",
    "    result = []\n",
    "    \n",
    "    bstSequenceUtil(getChildren(root),root.val,result)\n",
    "    return result\n",
    "    \n",
    "def getChildren(root):    \n",
    "    if not root:\n",
    "        return []\n",
    "    \n",
    "    children = []\n",
    "    \n",
    "    if root.left:\n",
    "        children.append(root.left)\n",
    "        \n",
    "    if root.right:\n",
    "        children.append(root.right)\n",
    "    return children\n",
    "\n",
    "def bstSequenceUtil(possibilities,string,result):\n",
    "    if len(possibilities) == 0:\n",
    "        result.append(string)\n",
    "        return\n",
    "    \n",
    "    for i in range(len(possibilities)):\n",
    "        n = possibilities[i]\n",
    "        del possibilities[i]\n",
    "        \n",
    "        new_possibilities = getChildren(n) + possibilities\n",
    "        bstSequenceUtil(new_possibilities, string + n.val, result)\n",
    "        possibilities.insert(i, n)"
   ]
  },
  {
   "cell_type": "code",
   "execution_count": 54,
   "metadata": {},
   "outputs": [
    {
     "data": {
      "text/plain": [
       "['639', '693']"
      ]
     },
     "execution_count": 54,
     "metadata": {},
     "output_type": "execute_result"
    }
   ],
   "source": [
    "root = Tree('6')\n",
    "left =  Tree('3')\n",
    "right = Tree('9')\n",
    "root.left = left\n",
    "root.right = right\n",
    "# left.right = Tree('5')\n",
    "# right.left = Tree('7')\n",
    "# right.right = Tree('10')\n",
    "\n",
    "\n",
    "# In[92]:\n",
    "\n",
    "\n",
    "bstSequence(root)"
   ]
  },
  {
   "cell_type": "code",
   "execution_count": 57,
   "metadata": {},
   "outputs": [],
   "source": [
    "'''4.10) T1 and T2 are two very large binary trees, with T1 much bigger than T2. Create an algorithm to determine \n",
    "if T2 is a subtree of T1.'''\n",
    "\n",
    "class Tree:\n",
    "    \n",
    "    def __init__(self,val):\n",
    "        self.val = val\n",
    "        self.left = self.right = None\n",
    "        \n",
    "def isSubTree(m,s):\n",
    "    \n",
    "    if m is None and s is None:\n",
    "        return True\n",
    "    \n",
    "    if m is not None and s is None:\n",
    "        return False\n",
    "    \n",
    "    if m is None and s is not None:\n",
    "        return False\n",
    "    \n",
    "    return isSame(m,s) or isSubTree(m.left,s) or isSubTree(m.right,s)\n",
    "\n",
    "def isSame(m,s):\n",
    "    \n",
    "    if m is None and s is None:\n",
    "        return True\n",
    "    \n",
    "    if m is None or s is None:\n",
    "        return False\n",
    "    \n",
    "    return m.val == s.val and isSame(m.left,s.left) and isSame(m.right,s.right)"
   ]
  },
  {
   "cell_type": "code",
   "execution_count": 60,
   "metadata": {},
   "outputs": [
    {
     "name": "stdout",
     "output_type": "stream",
     "text": [
      "Tree 2 is subtree of Tree 1\n"
     ]
    }
   ],
   "source": [
    "T = Tree(26) \n",
    "T.right = Tree(3) \n",
    "T.right.right  = Tree(3) \n",
    "T.left = Tree(10) \n",
    "T.left.left = Tree(4) \n",
    "T.left.left.right = Tree(30) \n",
    "T.left.right = Tree(6) \n",
    "\n",
    "S = Tree(10) \n",
    "S.right = Tree(6) \n",
    "S.left = Tree(4) \n",
    "S.left.right = Tree(30) \n",
    "\n",
    "if isSubTree(T, S): \n",
    "    print (\"Tree 2 is subtree of Tree 1\")\n",
    "else : \n",
    "    print (\"Tree 2 is not a subtree of Tree 1\")"
   ]
  },
  {
   "cell_type": "code",
   "execution_count": 59,
   "metadata": {},
   "outputs": [],
   "source": [
    "'''4.11) You are implementing a binary tree from scratch, which in addition to insert, find and delete has a \n",
    "method called RandomNode() which returns a random node from the tree. All nodes should be equally likely to\n",
    "be chosen. Design and implement an algorithm for getRandomNode and explain how you would implement the rest of\n",
    "the methods'''\n",
    "\n",
    "import random\n",
    "\n",
    "class Tree:\n",
    "    \n",
    "    def __init__(self,val):\n",
    "        self.val = val\n",
    "        self.left = self.right = None\n",
    "        self.size= 0\n",
    "        \n",
    "def count(root):\n",
    "    if not root:\n",
    "        return 0\n",
    "    \n",
    "    return count(root.left) + 1 + count(root.right)\n",
    "    \n",
    "def insert_count(root):  \n",
    "  \n",
    "    if root == None: \n",
    "        return\n",
    "  \n",
    "    root.size = count(root)\n",
    "    insert_count(root.left)  \n",
    "    insert_count(root.right)  \n",
    "\n",
    "def getRandomNode(root):\n",
    "    a = root.size\n",
    "    b = root.left.size if root.left else 0\n",
    "    c = root.right.size if root.right else 0\n",
    "    if b == c == 0:\n",
    "        return root.val\n",
    "    \n",
    "    rand_num = random.randint(1, a)\n",
    "    if rand_num <= b: return getRandomNode(root.left)\n",
    "    elif rand_num == b + 1: return root.val\n",
    "    else: return getRandomNode(root.right)\n",
    "    \n",
    "\n",
    "def insert_count(root):  \n",
    "  \n",
    "    if root == None: \n",
    "        return\n",
    "  \n",
    "    root.size = count(root)\n",
    "    insert_count(root.left)  \n",
    "    insert_count(root.right)  \n",
    "\n",
    "    "
   ]
  },
  {
   "cell_type": "code",
   "execution_count": 68,
   "metadata": {},
   "outputs": [
    {
     "data": {
      "text/plain": [
       "7"
      ]
     },
     "execution_count": 68,
     "metadata": {},
     "output_type": "execute_result"
    }
   ],
   "source": [
    "root = Tree(3)\n",
    "left = Tree(9)\n",
    "right = Tree(20)\n",
    "root.left = left\n",
    "root.right = right\n",
    "right.left = Tree(15)\n",
    "right.right = Tree(7)\n",
    "\n",
    "insert_count(root)\n",
    "\n",
    "root.left.size\n",
    "\n",
    "getRandomNode(root)\n",
    "\n",
    "# for i in range(100):\n",
    "#     print(getRandomNode(root), end = \",\")"
   ]
  },
  {
   "cell_type": "code",
   "execution_count": 83,
   "metadata": {},
   "outputs": [],
   "source": [
    "'''4.12) You are given a binary tree in which each node contains an integer value (positive or negative). \n",
    "Design an algorithm to count the number of pathsthat sum to a given value. The path does not need to \n",
    "start or end at the root or leaf, but it must go downwards.'''\n",
    "\n",
    "class Tree:\n",
    "    \n",
    "    def __init__(self,val):\n",
    "        self.val = val\n",
    "        self.left = self.right = None\n",
    "        \n",
    "class PathsWithSum:\n",
    "    def __init__(self):\n",
    "        self.paths_with_sum = 0\n",
    "\n",
    "    def path_with_sum(self, root, target):\n",
    "        self.dfs(root, target)\n",
    "        \n",
    "        return self.paths_with_sum\n",
    "    \n",
    "    def dfs(self, root, target):\n",
    "        if not root :\n",
    "            return\n",
    "        \n",
    "        self.count_paths_with_sum(root, target)\n",
    "        self.dfs(root.left, target)\n",
    "        self.dfs(root.right, target)\n",
    "    \n",
    "    def count_paths_with_sum(self, root, target):\n",
    "        if not root:\n",
    "            return\n",
    "        \n",
    "        if root.val == target:\n",
    "            self.paths_with_sum += 1\n",
    "        \n",
    "        self.count_paths_with_sum(root.left, target - root.val)\n",
    "        self.count_paths_with_sum(root.right, target - root.val)\n",
    "    \n",
    "    "
   ]
  },
  {
   "cell_type": "code",
   "execution_count": 84,
   "metadata": {},
   "outputs": [
    {
     "data": {
      "text/plain": [
       "3"
      ]
     },
     "execution_count": 84,
     "metadata": {},
     "output_type": "execute_result"
    }
   ],
   "source": [
    "root = Tree(10)\n",
    "left = Tree(5)\n",
    "right = Tree(-3)\n",
    "\n",
    "root.left = left\n",
    "root.right = right\n",
    "\n",
    "left.left = Tree(3)\n",
    "left.right = Tree(2)\n",
    "right.right = Tree(11)\n",
    "\n",
    "left.left.left = Tree(3)\n",
    "left.left.right = Tree(-2)\n",
    "\n",
    "left.right.right = Tree(1)\n",
    "\n",
    "paths_with_sum = PathsWithSum()\n",
    "paths_with_sum.path_with_sum(root,8)\n"
   ]
  }
 ],
 "metadata": {
  "kernelspec": {
   "display_name": "Python 3",
   "language": "python",
   "name": "python3"
  },
  "language_info": {
   "codemirror_mode": {
    "name": "ipython",
    "version": 3
   },
   "file_extension": ".py",
   "mimetype": "text/x-python",
   "name": "python",
   "nbconvert_exporter": "python",
   "pygments_lexer": "ipython3",
   "version": "3.7.1"
  }
 },
 "nbformat": 4,
 "nbformat_minor": 2
}
