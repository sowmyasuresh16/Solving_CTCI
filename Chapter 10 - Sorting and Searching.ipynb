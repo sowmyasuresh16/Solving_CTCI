{
 "cells": [
  {
   "cell_type": "code",
   "execution_count": null,
   "metadata": {},
   "outputs": [],
   "source": [
    "'''\n",
    "10.1) You are given two sorted arrays, A and B, where A has a large enough buffer at the end to hold B. Write\n",
    "a method to merge B into A in sorted order\n",
    "'''\n",
    "\n",
    "def merge_b_into_a(a,b,m,n):\n",
    "    a[m:] = b[:n]\n",
    "    a.sort()\n",
    "    print(a)"
   ]
  },
  {
   "cell_type": "code",
   "execution_count": null,
   "metadata": {},
   "outputs": [],
   "source": [
    "a = [1,2,3,0,0,0]\n",
    "m = 3\n",
    "b = [3,5,6]\n",
    "n = 3\n",
    "\n",
    "merge_b_into_a(a,b,m,n)"
   ]
  },
  {
   "cell_type": "code",
   "execution_count": null,
   "metadata": {},
   "outputs": [],
   "source": [
    "'''\n",
    "10.2) Write a method to sort n array of strings so that all anagrams are next to each other\n",
    "'''\n",
    "\n",
    "def groupAnagram(arr):\n",
    "    \n",
    "    d = {}\n",
    "    \n",
    "    for i in arr:\n",
    "        \n",
    "        sortedWord = \"\".join(sorted(i))\n",
    "        \n",
    "        if sortedWord in d:\n",
    "            d[sortedWord].append(i)\n",
    "            \n",
    "        else:\n",
    "            d[sortedWord] = [i]\n",
    "            \n",
    "    return list((d.values()))"
   ]
  },
  {
   "cell_type": "code",
   "execution_count": null,
   "metadata": {},
   "outputs": [],
   "source": [
    "arr = [\"eat\", \"tea\", \"tan\", \"ate\", \"nat\", \"bat\"]\n",
    "\n",
    "groupAnagram(arr)"
   ]
  },
  {
   "cell_type": "code",
   "execution_count": null,
   "metadata": {},
   "outputs": [],
   "source": [
    "'''\n",
    "10.3) Given a sorted array of n integersthat has been rotated an unknown number of times, write code to find an \n",
    "element in the array. You may assume that the array was originally sorted in increasing order.\n",
    "'''\n",
    "\n",
    "def rotatedArray(arr, n):\n",
    "    \n",
    "    if len(arr) == 0:\n",
    "        return None\n",
    "    \n",
    "    start = 0\n",
    "    end = len(arr) - 1\n",
    "    \n",
    "    while start <= end:\n",
    "        \n",
    "        mid = (start + end) // 2\n",
    "        \n",
    "        if n == arr[start]:\n",
    "            return start\n",
    "        \n",
    "        elif n == arr[mid]:\n",
    "            return mid\n",
    "        \n",
    "        elif n == arr[end]:\n",
    "            return end\n",
    "        \n",
    "        elif arr[mid] < arr[end]:\n",
    "            \n",
    "            if n > arr[mid] and n < arr[end]:\n",
    "                start = mid + 1\n",
    "                \n",
    "            else:\n",
    "                end = mid - 1\n",
    "                \n",
    "        else:\n",
    "            \n",
    "            if n < arr[mid] and n > arr[start]:\n",
    "                end = mid - 1\n",
    "                \n",
    "            else:\n",
    "                start = mid + 1\n",
    "                \n",
    "    return -1\n",
    "            "
   ]
  },
  {
   "cell_type": "code",
   "execution_count": null,
   "metadata": {},
   "outputs": [],
   "source": [
    "arr = [15,16,19,20,25,1,3,4,5,7,10,14]\n",
    "n = 56\n",
    "\n",
    "rotatedArray(arr,n)"
   ]
  },
  {
   "cell_type": "code",
   "execution_count": null,
   "metadata": {},
   "outputs": [],
   "source": [
    "'''\n",
    "10.4) You are given an array like data structure Listy which lacks the size method. It does have an elementAt(i) method\n",
    "that returns the element at index i in O(1) time. If i is beyond the bounds of the data structure, it returns -1. \n",
    "(For this reason the data structure supports only positive integers). Given a listy that contains sorted, positive \n",
    "integers, find the index at which an element x occurs. If x occurs multiple times, you may return any index.\n",
    "'''\n",
    "\n",
    "def SearchWithNoSize(arr,n):\n",
    "    \n",
    "    if len(arr) == 0:\n",
    "        return None\n",
    "    \n",
    "    start = 0\n",
    "    end = 1\n",
    "    val = arr[0]\n",
    "    \n",
    "    while val < n:\n",
    "        \n",
    "        end = end * 2\n",
    "        start = end // 2\n",
    "        val = arr[end]\n",
    "        \n",
    "    while start <= end:\n",
    "        \n",
    "        mid = (start + end) // 2\n",
    "        \n",
    "        if arr[mid] == n:\n",
    "            return mid\n",
    "        \n",
    "        elif n > arr[mid]:\n",
    "            start = mid + 1\n",
    "            \n",
    "        else:\n",
    "            end = mid - 1\n",
    "            \n",
    "    return -1"
   ]
  },
  {
   "cell_type": "code",
   "execution_count": null,
   "metadata": {},
   "outputs": [],
   "source": [
    "arr = [3, 5, 7, 9, 10, 90, 100, 130, 140, 160, 170]\n",
    "target = 9\n",
    "\n",
    "SearchWithNoSize(arr,target) "
   ]
  },
  {
   "cell_type": "code",
   "execution_count": null,
   "metadata": {},
   "outputs": [],
   "source": [
    "'''\n",
    "10.5) Given a sorted array of string that is interspesed with empty strings, write a method to find the location\n",
    "of a given string.\n",
    "\n",
    "Input: {\"at\",\"\",\"\",\"\",\"ball\",\"\",\"\",\"car\",\"\",\"\",\"dad\",\"\",\"\"}, n = \"ball\"\n",
    "Output: 4\n",
    "'''\n",
    "\n",
    "def sparseSearch(arr,n):\n",
    "    \n",
    "    if len(arr) == 0:\n",
    "        return None\n",
    "    \n",
    "    start = 0\n",
    "    end = len(arr) - 1\n",
    "    left, right = 0, 0\n",
    "\n",
    "    while start <= end:\n",
    "        \n",
    "        mid = (start + end) // 2\n",
    "        if arr[mid] == \"\":\n",
    "            \n",
    "            left = mid - 1\n",
    "            right = mid + 1\n",
    "            \n",
    "            while True:\n",
    "                \n",
    "                if left >= start and arr[left] != \"\":\n",
    "                    mid = left\n",
    "                    break\n",
    "                    \n",
    "                elif right <= end and arr[right] != \"\":\n",
    "                    mid = right\n",
    "                    break\n",
    "                    \n",
    "                else:\n",
    "                    return -1\n",
    "                \n",
    "                left -= 1\n",
    "                right += 1\n",
    "                \n",
    "        if arr[mid] == n:\n",
    "            return mid\n",
    "\n",
    "        elif n > arr[mid]:\n",
    "            start = mid + 1\n",
    "\n",
    "        else:\n",
    "            end = mid - 1\n",
    "                \n",
    "    return -1"
   ]
  },
  {
   "cell_type": "code",
   "execution_count": null,
   "metadata": {},
   "outputs": [],
   "source": [
    "arr = [\"at\",\"\",\"\",\"\",\"ball\",\"\",\"\",\"car\",\"\",\"\",\"dad\",\"\",\"\",\"egg\"]                  \n",
    "word = 'egg'\n",
    "\n",
    "sparseSearch(arr,word)"
   ]
  },
  {
   "cell_type": "code",
   "execution_count": 1,
   "metadata": {},
   "outputs": [],
   "source": [
    "'''\n",
    "10.9) Given a MxN matrix in which each row and each column is sorted in ascending order, write code to find an element.\n",
    "'''\n",
    "\n",
    "def searchInMatrix(matrix,target):\n",
    "    \n",
    "    if not matrix or not target:\n",
    "        return\n",
    "    \n",
    "    rows = len(matrix)\n",
    "    cols = len(matrix[0])\n",
    "    \n",
    "    start = 0\n",
    "    end = (rows * cols) - 1\n",
    "    \n",
    "    while start <= end:\n",
    "        \n",
    "        mid = (start + end) // 2\n",
    "        nums = matrix[mid//cols][mid%cols]\n",
    "        if target == nums:\n",
    "            a = list()\n",
    "            a.extend((mid//cols,mid%cols))\n",
    "            return a\n",
    "        elif target > nums:\n",
    "            start = mid + 1\n",
    "        else:\n",
    "            end = mid - 1\n",
    "            \n",
    "    return -1"
   ]
  },
  {
   "cell_type": "code",
   "execution_count": 2,
   "metadata": {},
   "outputs": [
    {
     "name": "stdout",
     "output_type": "stream",
     "text": [
      "mid 5\n",
      "nums 11\n",
      "mid 2\n",
      "nums 5\n",
      "mid 0\n",
      "nums 1\n",
      "mid 1\n",
      "nums 3\n"
     ]
    },
    {
     "data": {
      "text/plain": [
       "[0, 1]"
      ]
     },
     "execution_count": 2,
     "metadata": {},
     "output_type": "execute_result"
    }
   ],
   "source": [
    "matrix = [\n",
    "  [1,   3,  5,  7],\n",
    "  [10, 11, 16, 20],\n",
    "  [23, 30, 34, 50]\n",
    "]\n",
    "target = 3\n",
    "\n",
    "searchInMatrix(matrix,target)"
   ]
  },
  {
   "cell_type": "code",
   "execution_count": 35,
   "metadata": {},
   "outputs": [],
   "source": [
    "'''\n",
    "10.10) Imagine you are reading from a stream of integers. Periodically, you wish to be able to look up the rank\n",
    "of a number x (the number of values less than or equal to x) . Implement the data structure and algorithm to support \n",
    "these operations.That is, implement the method, track(int x, which is called when each number is generated, and the \n",
    "method getRank(int x) which returns the number of values less than or equal to x. (not including x itself)\n",
    "'''\n",
    "\n",
    "class Tree:\n",
    "    \n",
    "    def __init__(self,val):\n",
    "        \n",
    "        self.val = val\n",
    "        self.left = self.right = None\n",
    "        self.leftSize = 0\n",
    "        \n",
    "def trackNumber(root,node):\n",
    "    \n",
    "    if root is None:\n",
    "        return Tree(node)\n",
    "        \n",
    "    else:\n",
    "        if node <= root.val:\n",
    "            root.left = trackNumber(root.left,node)\n",
    "            root.leftSize += 1\n",
    "            \n",
    "        else:\n",
    "            root.right = trackNumber(root.right,node)\n",
    "    \n",
    "    return root\n",
    "            \n",
    "def getRankOfNumber(root,x):\n",
    "    \n",
    "    if root.val == x:\n",
    "        return root.leftSize\n",
    "    \n",
    "    elif root.val > x:\n",
    "        if root.left is None:\n",
    "            return -1\n",
    "        else:\n",
    "            return getRankOfNumber(root.left,x)\n",
    "        \n",
    "    else:\n",
    "        if root.right is None:\n",
    "            print(root.right)\n",
    "            return -1\n",
    "       \n",
    "        else:\n",
    "            rightSize = getRankOfNumber(root.right,x)\n",
    "            return root.leftSize + 1 + rightSize\n",
    "        "
   ]
  },
  {
   "cell_type": "code",
   "execution_count": 37,
   "metadata": {},
   "outputs": [
    {
     "name": "stdout",
     "output_type": "stream",
     "text": [
      "Rank of 4 in stream is: 2\n",
      "Rank of -12 in stream is: -1\n"
     ]
    }
   ],
   "source": [
    "arr = [5, 1, 14, 4, 4, 15, 9, 7, 20, 11]  \n",
    "n = len(arr)  \n",
    "x = 4\n",
    "\n",
    "root = None\n",
    "for i in range(n): \n",
    "    root = trackNumber(root, arr[i]) \n",
    "    \n",
    "print(\"Rank of\", x, \"in stream is:\",  \n",
    "                   getRankOfNumber(root, x)) \n",
    "x = -12\n",
    "print(\"Rank of\", x, \"in stream is:\",  \n",
    "                   getRankOfNumber(root, x)) "
   ]
  },
  {
   "cell_type": "code",
   "execution_count": 38,
   "metadata": {},
   "outputs": [],
   "source": [
    "'''\n",
    "10.11) In an array of integers, a peak is an element which is greater than or equal to the adjacent integers and a \n",
    "valley is an element that is less than or equal to the adjacent integers. For example in the array, {5,8,6,2,3,4,6},\n",
    "{8,6} are peaks and {5,2} are valleys. Given an array of integers, sort the array into an alternating sequence of peaks and \n",
    "valleys. Input : {5,3,1,2,3}     Output: {5,1,3,2,3}\n",
    "'''\n",
    "\n",
    "def peaksAndValleys(arr):\n",
    "    n = len(arr)\n",
    "    \n",
    "    for i in range(0,n,2):\n",
    "        \n",
    "        if(i > 0 and arr[i] < arr[i-1]):\n",
    "            print(\"First\",arr[i],arr[i-1])\n",
    "            arr[i], arr[i-1] = arr[i-1], arr[i]\n",
    "            \n",
    "        if(i < n-1 and arr[i] < arr[i+1]):\n",
    "            print(\"Second\",arr[i],arr[i+1])\n",
    "            arr[i], arr[i+1] = arr[i+1], arr[i]\n",
    "            \n",
    "    print(arr)"
   ]
  },
  {
   "cell_type": "code",
   "execution_count": 40,
   "metadata": {},
   "outputs": [
    {
     "name": "stdout",
     "output_type": "stream",
     "text": [
      "Second 10 90\n",
      "First 1 2\n",
      "Second 2 5\n",
      "[90, 10, 49, 1, 5, 2, 23]\n"
     ]
    }
   ],
   "source": [
    "arr = [10, 90, 49, 2, 1, 5, 23]\n",
    "peaksAndValleys(arr)"
   ]
  }
 ],
 "metadata": {
  "kernelspec": {
   "display_name": "Python 3",
   "language": "python",
   "name": "python3"
  },
  "language_info": {
   "codemirror_mode": {
    "name": "ipython",
    "version": 3
   },
   "file_extension": ".py",
   "mimetype": "text/x-python",
   "name": "python",
   "nbconvert_exporter": "python",
   "pygments_lexer": "ipython3",
   "version": "3.7.1"
  }
 },
 "nbformat": 4,
 "nbformat_minor": 2
}
